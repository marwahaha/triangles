{
 "cells": [
  {
   "cell_type": "markdown",
   "metadata": {},
   "source": [
    "# A Funny Triangle Question"
   ]
  },
  {
   "cell_type": "markdown",
   "metadata": {},
   "source": [
    "by Kunal Marwaha"
   ]
  },
  {
   "cell_type": "markdown",
   "metadata": {},
   "source": [
    "### The Question"
   ]
  },
  {
   "cell_type": "markdown",
   "metadata": {},
   "source": [
    "How many triangles are in a triangle composed of smaller triangles?"
   ]
  },
  {
   "cell_type": "markdown",
   "metadata": {},
   "source": [
    "![triangles!](http://mathworld.wolfram.com/images/eps-gif/TriangleTilings_551.gif)"
   ]
  },
  {
   "cell_type": "markdown",
   "metadata": {},
   "source": [
    "### First Thoughts"
   ]
  },
  {
   "cell_type": "markdown",
   "metadata": {},
   "source": [
    "Suppose there are $n$ smaller triangles per side. Obviously, when $n=1$, then the answer is $1$."
   ]
  },
  {
   "cell_type": "markdown",
   "metadata": {},
   "source": [
    "To compose a large triangle from smaller triangles, you can interleave rows of face-up triangles with rows of face-down triangles. \n",
    "\n",
    "You can build rows of $1,2,...,n$ face-up triangles interleaved with rows of $1,2,...,n-1$ face-down triangles. \n",
    "\n",
    "These stacked rows of triangles inspire the series $1, 1+2, 1+2+3, ...$. These numbers are known as the \"triangle numbers\". Thus, the $j^{th}$ triangle number is $T_j = 1+2+...+j = (j+1)(j/2)$."
   ]
  },
  {
   "cell_type": "markdown",
   "metadata": {},
   "source": [
    "There are a total of $(1+2+...+n)+(1+2+...+n-1) = ((n+1)n/2) + (n(n-1)/2) = n^2$ of the smaller triangles in the large triangle. This is perfectly sensible, since an $n$-fold increase in linear proportion magnifies the area by $n^2$."
   ]
  },
  {
   "cell_type": "markdown",
   "metadata": {},
   "source": [
    "### Intermediate Triangles: Face-Up"
   ]
  },
  {
   "cell_type": "markdown",
   "metadata": {},
   "source": [
    "We can also count all the intermediate-sized triangles. (This is only relevant for $n\\ge 3$.)\n",
    "\n",
    "Let's inspect triangles with $k$ smaller triangles per side. You can certainly build rows of $1,2,...,n-k+1$ face-up triangles. So, we can immediately count the total number of face-up triangles by taking a partial sum of the triangle number series."
   ]
  },
  {
   "cell_type": "markdown",
   "metadata": {},
   "source": [
    "#### Analytic Solution"
   ]
  },
  {
   "cell_type": "markdown",
   "metadata": {},
   "source": [
    "Number of face-up triangles = $\\sum_{k=1}^{n} \\sum_{i=1}^{n-k+1} i = \\sum_{k=1}^{n} \\sum_{i=1}^{k} i = \\sum_{k=1}^n T_k = \\sum_{k=1}^n (k+1)(k/2) =\\sum_{k=1}^n k^2/2 + k/2$ .\n",
    "\n",
    "This simplifies to $(2n+1)(n+1)(n/12) + (n+1)(n/4)$ since both $\\sum_{i=1}^n i = T_n$ and $\\sum_{i=1}^n i^2$ have a closed-form expression. Thus, there are $(n/12)(n+1)(2n+1+3) = n(n+1)(n+2)/6$ face-up triangles in the large triangle."
   ]
  },
  {
   "cell_type": "markdown",
   "metadata": {},
   "source": [
    "#### Code and Verification"
   ]
  },
  {
   "cell_type": "code",
   "execution_count": 1,
   "metadata": {
    "collapsed": true
   },
   "outputs": [],
   "source": [
    "from __future__ import division"
   ]
  },
  {
   "cell_type": "code",
   "execution_count": 2,
   "metadata": {
    "collapsed": false
   },
   "outputs": [],
   "source": [
    "def tr(n):\n",
    "    return int(n*(n+1)/2)\n",
    "def num_faceup(n):\n",
    "    return int(n*(n+1)*(n+2)/6)"
   ]
  },
  {
   "cell_type": "code",
   "execution_count": 3,
   "metadata": {
    "collapsed": true
   },
   "outputs": [],
   "source": [
    "n_max = 100\n",
    "assert [sum(map(tr, range(1,n+1))) for n in range(1,n_max+1)] == \\\n",
    "    [num_faceup(n) for n in range(1,n_max+1)], \"num_faceup function isn't correct\""
   ]
  },
  {
   "cell_type": "markdown",
   "metadata": {},
   "source": [
    "The above ```assert``` checks that the ```num_faceup``` closed-form expression exactly matches the partial sum of the triangle number series."
   ]
  },
  {
   "cell_type": "markdown",
   "metadata": {},
   "source": [
    "#### Result"
   ]
  },
  {
   "cell_type": "code",
   "execution_count": 4,
   "metadata": {
    "collapsed": false,
    "scrolled": true
   },
   "outputs": [
    {
     "name": "stdout",
     "output_type": "stream",
     "text": [
      "Number of face-up triangles when n=1..20:\n",
      "[1, 4, 10, 20, 35, 56, 84, 120, 165, 220, 286, 364, 455, 560, 680, 816, 969, 1140, 1330, 1540]\n"
     ]
    }
   ],
   "source": [
    "n_max=20\n",
    "print(\"Number of face-up triangles when n=1..\"+str(n_max)+\":\")\n",
    "print([num_faceup(n) for n in range(1,n_max+1)])"
   ]
  },
  {
   "cell_type": "markdown",
   "metadata": {},
   "source": [
    "### Intermediate Triangles: Face-Down"
   ]
  },
  {
   "cell_type": "markdown",
   "metadata": {},
   "source": [
    "Counting the face-down triangles is trickier. When $k=1$, as discussed earlier, there are $T_{n-1} = n(n-1)/2$ face-down triangles. The biggest face-down triangle that fits in the large triangle is the largest integer no more than $n/2$ (let's call this $m$). If $n$ is even, it fits right in the middle.\n",
    "\n",
    "Inspecting triangles of $k$ smaller triangles per side, you can build overlapping rows of $1,2,...,n+1-2k$ face-down triangles (supposing $n\\ge 2k$). Now, we can count the total number of face-down triangles by taking a partial sum of odd or even terms in the triangle number series."
   ]
  },
  {
   "cell_type": "markdown",
   "metadata": {},
   "source": [
    "Number of face-down triangles = $\\sum_{k=1}^{m} \\sum_{i=1}^{n+1-2k} i  = \\sum_{k=1}^{m} T_{n+1-2k} = T_{n-1} + T_{n-3} + ...$"
   ]
  },
  {
   "cell_type": "markdown",
   "metadata": {},
   "source": [
    "#### Analytic Solution (even $n$)"
   ]
  },
  {
   "cell_type": "markdown",
   "metadata": {},
   "source": [
    "This summation can be done analytically. First, note that $T_n - T_{n-1} = \\sum_{i=1}^n i - \\sum_{i=1}^{n-1} i = n$. Also, recall that $\\sum_{k=1}^n T_k = n(n+1)(n+2)/6$ is the number of face-up triangles in a large triangle of size $n$.\n",
    "\n",
    "Suppose $n$ is even. We can split up the triangle series into even and odd parts; that is, $\\sum_{k=1}^n T_k = \\sum_{k=1}^{n/2} (T_{2k} + T_{2k-1})$. By the above note, $\\sum_{k=1}^{n/2} (T_{2k} - T_{2k-1}) = \\sum_{k=1}^{n/2} (2k) = (n/2)(n+2)/2$. \n",
    "\n",
    "We can then determine the partial sum of odd terms in the triangle series, as $0.5[\\sum_{k=1}^{n/2} (T_{2k} + T_{2k-1}) - \\sum_{k=1}^{n/2} (T_{2k} - T_{2k-1})] = \\sum_{k=1}^{n/2} T_{2k-1} = \\sum_{k=1}^{n/2} T_{n+1-2k}$.\n",
    "\n",
    "Plugging all expressions in, the number of face-down triangles for even $n$ is $0.5[n(n+1)(n+2)/6  - n(n+2)/4] = n(n+2)(2n+2)/24 -3n(n+2)/24 = n(2n-1)(n+2)/24 = (2n^3 + 3n^2 - 2n)/24$."
   ]
  },
  {
   "cell_type": "markdown",
   "metadata": {},
   "source": [
    "#### Analytic Solution (odd $n$)"
   ]
  },
  {
   "cell_type": "markdown",
   "metadata": {},
   "source": [
    "To be exact, the above expression is a summation for the first $n/2$ odd terms in the triangle series, assuming $n$ is even. We can easily find the sum of the first $n/2$ even terms, since $\\sum_{k=1}^{n} T_k - \\sum_{k=1}^{n/2} T_{2k-1} = \\sum_{k=1}^{n/2} T_{2k}$. Plugging in: $n(n+1)(n+2)/6 - n(2n-1)(n+2)/24 = n(2n+5)(n+2)/24$.\n",
    "\n",
    "When $n$ is odd, the number of face-down triangles is the sum of even terms in the triangle series, from $2$ to $n-1$. That is exactly the summation above, except with $n$ relabeled to $n-1$. \n",
    "\n",
    "Precisely, let $x=n-1$ be odd. (Then, $n$ is even.) Then, $\\sum_{k=1}^{n/2} T_{2k} = \\sum_{k=1}^{(x-1)/2} T_{2k} = \\sum_{k=1}^{(x-1)/2} T_{x+1-2k}$ describes the number of face-down triangles in a large triangle of size $x$ (since in this case, $m=(x-1)/2$). This quantity is $n(2n+5)(n+2)/24 = (x-1)(2x+3)(x+1)/24 = (2x^3 + 3x^2 - 2x - 3)/24$."
   ]
  },
  {
   "cell_type": "markdown",
   "metadata": {},
   "source": [
    "There are other solutions for the odd $n$ case, but you will arrive at the same answer. I encourage you to try a method similar to the even $n$ case with a pencil and paper. It is so rewarding to 'figure it out' yourself."
   ]
  },
  {
   "cell_type": "markdown",
   "metadata": {},
   "source": [
    "#### Code and Verification"
   ]
  },
  {
   "cell_type": "code",
   "execution_count": 5,
   "metadata": {
    "collapsed": true
   },
   "outputs": [],
   "source": [
    "def num_facedown_even(n):\n",
    "    return (2*n-1)*n*(n+2)/24\n",
    "def num_facedown_odd(n):\n",
    "    return (2*n+3)*(n*n-1)/24\n",
    "def num_facedown(n):\n",
    "    return int(num_facedown_even(n)) if n%2==0 else int(num_facedown_odd(n))"
   ]
  },
  {
   "cell_type": "code",
   "execution_count": 6,
   "metadata": {
    "collapsed": false
   },
   "outputs": [],
   "source": [
    "n_max = 100\n",
    "assert [sum(map(tr,range(n-1,0,-2))) for n in range(1,n_max+1)] == \\\n",
    "    [num_facedown(n) for n in range(1,n_max+1)], \"num_facedown function isn't correct\""
   ]
  },
  {
   "cell_type": "markdown",
   "metadata": {},
   "source": [
    "The above ```assert``` checks that the ```num_facedown``` closed-form expressions exactly match the subset sums of the triangle number series (from $T_{n-1}$, to zero, counting backwards by twos)."
   ]
  },
  {
   "cell_type": "markdown",
   "metadata": {},
   "source": [
    "#### Result"
   ]
  },
  {
   "cell_type": "code",
   "execution_count": 7,
   "metadata": {
    "collapsed": false,
    "scrolled": true
   },
   "outputs": [
    {
     "name": "stdout",
     "output_type": "stream",
     "text": [
      "Number of face-down triangles when n=1..20:\n",
      "[0, 1, 3, 7, 13, 22, 34, 50, 70, 95, 125, 161, 203, 252, 308, 372, 444, 525, 615, 715]\n"
     ]
    }
   ],
   "source": [
    "n_max=20\n",
    "print(\"Number of face-down triangles when n=1..\"+str(n_max)+\":\")\n",
    "print([num_facedown(n) for n in range(1,n_max+1)])"
   ]
  },
  {
   "cell_type": "markdown",
   "metadata": {},
   "source": [
    "#### A fun fact"
   ]
  },
  {
   "cell_type": "markdown",
   "metadata": {},
   "source": [
    "Note that the solutions for even-sized and odd-sized triangles differ by $3/24=1/8$. The math works out. Strange!"
   ]
  },
  {
   "cell_type": "code",
   "execution_count": 8,
   "metadata": {
    "collapsed": false
   },
   "outputs": [
    {
     "data": {
      "text/plain": [
       "[0.0, 0.875, 3.0, 6.875, 13.0, 21.875, 34.0, 49.875, 70.0, 94.875]"
      ]
     },
     "execution_count": 8,
     "metadata": {},
     "output_type": "execute_result"
    }
   ],
   "source": [
    "[num_facedown_odd(i) for i in range(1,10+1)]"
   ]
  },
  {
   "cell_type": "code",
   "execution_count": 9,
   "metadata": {
    "collapsed": false
   },
   "outputs": [
    {
     "data": {
      "text/plain": [
       "[0.125, 1.0, 3.125, 7.0, 13.125, 22.0, 34.125, 50.0, 70.125, 95.0]"
      ]
     },
     "execution_count": 9,
     "metadata": {},
     "output_type": "execute_result"
    }
   ],
   "source": [
    "[num_facedown_even(i) for i in range(1,10+1)]"
   ]
  },
  {
   "cell_type": "markdown",
   "metadata": {},
   "source": [
    "### Total Number of Triangles"
   ]
  },
  {
   "cell_type": "markdown",
   "metadata": {},
   "source": [
    "By the symmetry of the drawing, all triangles are either face-up or face-down. So, the total number of triangles in a large triangle (with $n$ smaller triangles per side) can be calculated analytically:\n",
    "\n",
    "There are $n(n+1)(n+2)/6$  face-up triangles, and $n(2n-1)(n+2)/24$ face-down triangles (when $n$ is even). Thus, there are $n(6n+3)(n+2)/24 = n(2n+1)(n+2)/8 = (2n^3+5n^2+2n)/8$ triangles in a large triangle of even size $n$. (If $n$ is odd, subtract $1/8$ from this expression.)\n"
   ]
  },
  {
   "cell_type": "markdown",
   "metadata": {},
   "source": [
    "#### Result"
   ]
  },
  {
   "cell_type": "code",
   "execution_count": 10,
   "metadata": {
    "collapsed": false
   },
   "outputs": [
    {
     "name": "stdout",
     "output_type": "stream",
     "text": [
      "Total number of triangles when n=1..20:\n",
      "[1, 5, 13, 27, 48, 78, 118, 170, 235, 315, 411, 525, 658, 812, 988, 1188, 1413, 1665, 1945, 2255]\n"
     ]
    }
   ],
   "source": [
    "n_max=20\n",
    "print(\"Total number of triangles when n=1..\"+str(n_max)+\":\")\n",
    "print([num_faceup(n) + num_facedown(n) for n in range(1,n_max+1)])"
   ]
  },
  {
   "cell_type": "markdown",
   "metadata": {},
   "source": [
    "#### Another fun thought"
   ]
  },
  {
   "cell_type": "markdown",
   "metadata": {},
   "source": [
    "A cheap way to calculate the number of triangles given $n$ is to round the expression for even $n$ (since $1/8 < 1/2$). The following ```assert``` checks that claim."
   ]
  },
  {
   "cell_type": "code",
   "execution_count": 11,
   "metadata": {
    "collapsed": true
   },
   "outputs": [],
   "source": [
    "def num_total(n):\n",
    "    return round((2*n+1)*(n+2)*n/8)"
   ]
  },
  {
   "cell_type": "code",
   "execution_count": 12,
   "metadata": {
    "collapsed": false
   },
   "outputs": [],
   "source": [
    "n_max=100\n",
    "assert [num_faceup(n) + num_facedown(n) for n in range(1,n_max+1)] == \\\n",
    "    [num_total(n) for n in range(1,n_max+1)], 'num_total rounding doesn\\'t work'"
   ]
  },
  {
   "cell_type": "markdown",
   "metadata": {},
   "source": [
    "### Analysis"
   ]
  },
  {
   "cell_type": "markdown",
   "metadata": {},
   "source": [
    "You can see that this number grows very fast with $n$."
   ]
  },
  {
   "cell_type": "code",
   "execution_count": 13,
   "metadata": {
    "collapsed": true
   },
   "outputs": [],
   "source": [
    "%matplotlib inline\n",
    "import matplotlib.pyplot as plt"
   ]
  },
  {
   "cell_type": "code",
   "execution_count": 14,
   "metadata": {
    "collapsed": false,
    "scrolled": true
   },
   "outputs": [
    {
     "data": {
      "image/png": "[encoded data removed]",
      "text/plain": [
       "<matplotlib.figure.Figure at 0x63516a0>"
      ]
     },
     "metadata": {},
     "output_type": "display_data"
    }
   ],
   "source": [
    "n_max=20\n",
    "plt.plot(range(1,n_max+1), [num_faceup(n) + num_facedown(n) for n in range(1,n_max+1)], 'b.', markersize=20)\n",
    "plt.plot(range(1,n_max+1), [num_total(n) for n in range(1,n_max+1)], 'r.', markersize=10)\n",
    "plt.xlabel(\"size of large triangle ($n$)\")\n",
    "plt.ylabel(\"number of triangles in the large triangle\")\n",
    "plt.title(\"triangles in a triangle composed of smaller triangles\")\n",
    "plt.grid()"
   ]
  },
  {
   "cell_type": "markdown",
   "metadata": {},
   "source": [
    "It is not exponential, by the way. (Why? Think about it, then read on.)"
   ]
  },
  {
   "cell_type": "markdown",
   "metadata": {},
   "source": [
    "#### Scaling"
   ]
  },
  {
   "cell_type": "markdown",
   "metadata": {},
   "source": [
    "Remember that the expression for the solution (for even $n$) is $(2n^3+5n^2+2n)/8$. A-ha! So the asymptotic scaling for this question is $n^3$. This means that when $n$ is very large, there are about $n^3$ triangles contained in the large triangle. "
   ]
  },
  {
   "cell_type": "markdown",
   "metadata": {},
   "source": [
    "You can visualize this with the slope of the log-log plot (it should be about 3 as $n$ gets large)."
   ]
  },
  {
   "cell_type": "code",
   "execution_count": 15,
   "metadata": {
    "collapsed": false,
    "scrolled": false
   },
   "outputs": [
    {
     "data": {
      "image/png": "[encoded data removed]",
      "text/plain": [
       "<matplotlib.figure.Figure at 0x6521be0>"
      ]
     },
     "metadata": {},
     "output_type": "display_data"
    }
   ],
   "source": [
    "n_max=2000\n",
    "plt.loglog(range(1,n_max+1), [num_faceup(n) + num_facedown(n) for n in range(1,n_max+1)], 'b.', markersize=2)\n",
    "plt.xlabel(\"size of large triangle ($n$)\")\n",
    "plt.ylabel(\"number of triangles in the large triangle\")\n",
    "plt.title(\"triangles in a triangle composed of smaller triangles\")\n",
    "plt.grid()"
   ]
  },
  {
   "cell_type": "markdown",
   "metadata": {},
   "source": [
    "#### The end"
   ]
  },
  {
   "cell_type": "markdown",
   "metadata": {},
   "source": [
    "But now you know the answer. Go ahead, draw a small example and ask your friends: \"How many triangles?\" (I've found that $n=4$ is a great example.)"
   ]
  },
  {
   "cell_type": "markdown",
   "metadata": {},
   "source": [
    "![triangles!](http://mathworld.wolfram.com/images/eps-gif/TriangleTilings_551.gif)"
   ]
  },
  {
   "cell_type": "markdown",
   "metadata": {
    "collapsed": true
   },
   "source": [
    "I hope you enjoyed reading this bit on triangles."
   ]
  },
  {
   "cell_type": "markdown",
   "metadata": {},
   "source": [
    "Here's the WolframAlpha page on [Tiling Triangles](http://mathworld.wolfram.com/TriangleTiling.html). Triangle image ($n=1,2,3,4$) belongs to WolframAlpha."
   ]
  }
 ],
 "metadata": {
  "anaconda-cloud": {},
  "kernelspec": {
   "display_name": "Python 2",
   "language": "python",
   "name": "python2"
  },
  "language_info": {
   "codemirror_mode": {
    "name": "ipython",
    "version": 2
   },
   "file_extension": ".py",
   "mimetype": "text/x-python",
   "name": "python",
   "nbconvert_exporter": "python",
   "pygments_lexer": "ipython2",
   "version": "2.7.11"
  }
 },
 "nbformat": 4,
 "nbformat_minor": 0
}
